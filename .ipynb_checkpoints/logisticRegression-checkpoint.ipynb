{
 "cells": [
  {
   "cell_type": "code",
   "execution_count": 1,
   "metadata": {
    "scrolled": false
   },
   "outputs": [],
   "source": [
    "import pandas as pd\n",
    "from IPython.display import display\n",
    "\n",
    "data = pd.read_csv('profiles.csv')\n",
    "data.isnull().sum()\n",
    "col = ['drinks', 'drugs', 'education', 'job', 'offspring', 'orientation', 'pets', 'smokes', 'status']\n",
    "data[col] = data[col].fillna(data.mode().iloc[0])\n",
    "\n",
    "features = data.iloc[:,:-2].values\n",
    "labels = data.iloc[:,-1].values\n",
    "\n",
    "df1 = pd.DataFrame(features)\n",
    "df2 = pd.DataFrame(labels)\n",
    "\n",
    "df1 = pd.get_dummies(df1)\n",
    "df2 = pd.get_dummies(df2)"
   ]
  },
  {
   "cell_type": "code",
   "execution_count": null,
   "metadata": {},
   "outputs": [],
   "source": []
  },
  {
   "cell_type": "code",
   "execution_count": null,
   "metadata": {},
   "outputs": [],
   "source": []
  },
  {
   "cell_type": "code",
   "execution_count": 2,
   "metadata": {},
   "outputs": [],
   "source": [
    "#split test and training data according to random state\n",
    "from sklearn.model_selection import train_test_split\n",
    "df1_train,df1_test,df2_train,df2_test = train_test_split(df1, df2, stratify = df2, random_state = 42)"
   ]
  },
  {
   "cell_type": "code",
   "execution_count": 3,
   "metadata": {},
   "outputs": [],
   "source": [
    "#used logistic Regression to predict gender\n",
    "from sklearn.linear_model import LogisticRegression\n",
    "log_reg = LogisticRegression()\n",
    "log_reg.fit(df1_train, df2_train.values.ravel())\n",
    "y_pred = log_reg.predict(df1_test)"
   ]
  },
  {
   "cell_type": "code",
   "execution_count": 4,
   "metadata": {},
   "outputs": [
    {
     "name": "stdout",
     "output_type": "stream",
     "text": [
      "Coefficients (m): \n",
      " [[ 9.12432584e-01  1.14502912e+00  4.28798955e-01 -3.29150144e+00\n",
      "  -1.72251541e+00  8.96614869e-01  7.55994834e-01 -5.85041226e-02\n",
      "   2.07543547e-01  8.82194939e-01  1.81787636e-01  4.64837492e-01\n",
      "   2.33325970e-01  5.30562039e-02 -2.95470048e-01 -4.81449374e-01\n",
      "   1.92850905e-01  8.91242191e-03  8.94521223e-02 -1.35127570e-01\n",
      "  -2.52324538e-01  4.38430502e-01 -3.00180839e-02 -3.21099235e-01\n",
      "   6.94173631e-01 -2.99826619e-01 -8.66189424e-02  4.65729644e-01\n",
      "  -7.86861017e-03  4.57517996e-01  4.68116817e-01 -4.36094393e-01\n",
      "  -7.83500347e-01 -3.12546966e-02 -1.58026363e-01  1.94838998e-01\n",
      "  -2.23316586e-01  1.19768377e-02 -1.35483419e+00  1.35854902e+00\n",
      "   1.71059708e+00 -8.77044244e-01  2.57650655e-01  2.54767576e-01\n",
      "  -2.93005559e-01 -3.85792370e-01 -9.95599317e-01  9.95211486e-01\n",
      "  -5.13865560e-01 -2.23482732e-01 -1.67638299e-01 -7.72933617e-02\n",
      "  -4.70441920e-01  7.06867532e-01 -3.00815855e-01  9.67011858e-01\n",
      "  -2.23414177e-01  2.50379108e-01  4.16210082e-02  2.26768525e-01\n",
      "  -2.11841203e-01  3.85208817e-01 -4.43333685e-01 -9.27146905e-02\n",
      "  -1.04981382e+00  9.11870490e-01  2.94031206e-01  1.67988131e-01\n",
      "  -1.37402127e-01 -1.79693705e-03  2.54485632e-02  4.36564263e-01\n",
      "  -4.11345562e-01 -3.89726924e-02 -3.53261252e-01 -4.07507404e-01\n",
      "  -4.95277444e-02  5.01779880e-01  3.09383476e-01  1.25932648e-01\n",
      "  -4.87203504e-01  4.76008141e-01 -2.86095910e-01  3.98696525e-02\n",
      "   2.96879287e-01 -4.97099402e-02  1.55144789e-01  4.60073823e-01\n",
      "   2.01121604e-01 -4.02820183e-01 -1.29090898e-01  2.68035334e-02]]\n",
      "Intercept (b): \n",
      " [0.15608788]\n",
      "0.7345522487655145\n",
      "Probability of prediction: \n",
      " [[0.97429776 0.02570224]\n",
      " [0.44813971 0.55186029]\n",
      " [0.11498863 0.88501137]\n",
      " ...\n",
      " [0.24067783 0.75932217]\n",
      " [0.08966039 0.91033961]\n",
      " [0.96970035 0.03029965]]\n",
      "[[3223 2806]\n",
      " [1172 7785]]\n"
     ]
    }
   ],
   "source": [
    "#determined accuracy score\n",
    "import numpy as np\n",
    "from sklearn.metrics import accuracy_score\n",
    "from sklearn.model_selection import KFold, cross_val_score\n",
    "from sklearn import metrics\n",
    "\n",
    "print('Coefficients (m): \\n', log_reg.coef_)\n",
    "print('Intercept (b): \\n', log_reg.intercept_)\n",
    "print(accuracy_score(df2_test, y_pred))\n",
    "print(\"Probability of prediction: \\n\",log_reg.predict_proba(df1_train))\n",
    "print(metrics.confusion_matrix(df2_test, y_pred))"
   ]
  },
  {
   "cell_type": "code",
   "execution_count": 5,
   "metadata": {},
   "outputs": [
    {
     "name": "stdout",
     "output_type": "stream",
     "text": [
      "Index(['0_a little extra', '0_athletic', '0_average', '0_curvy',\n",
      "       '0_full figured', '0_jacked', '0_overweight', '0_rather not say',\n",
      "       '0_skinny', '0_used up', '1_anything', '1_halal', '1_kosher', '1_other',\n",
      "       '1_vegan', '1_vegetarian', '2_not at all', '2_often', '2_rarely',\n",
      "       '2_socially', '3_never', '3_often', '3_sometimes',\n",
      "       '4_college/university', '4_dropped out of high school',\n",
      "       '4_dropped out of law school', '4_dropped out of masters program',\n",
      "       '4_dropped out of med school', '4_dropped out of ph.d program',\n",
      "       '4_dropped out of space camp', '4_high school', '4_law school',\n",
      "       '4_masters program', '4_med school', '4_ph.d program', '4_space camp',\n",
      "       '5_artistic / musical / writer', '5_banking / financial / real estate',\n",
      "       '5_clerical / administrative', '5_computer / hardware / software',\n",
      "       '5_construction / craftsmanship', '5_education / academia',\n",
      "       '5_entertainment / media', '5_executive / management',\n",
      "       '5_hospitality / travel', '5_law / legal services',\n",
      "       '5_medicine / health', '5_military', '5_other',\n",
      "       '5_political / government', '5_rather not say', '5_retired',\n",
      "       '5_sales / marketing / biz dev', '5_science / tech / engineering',\n",
      "       '5_student', '5_transportation', '5_unemployed', '6_does not have kids',\n",
      "       '6_does not have kids, but wants them', '6_does not want kids',\n",
      "       '6_has kids', '6_has kids, and wants more',\n",
      "       '6_has kids, does not want more', '6_wants kids', '7_bisexual', '7_gay',\n",
      "       '7_straight', '8_dislikes cats', '8_dislikes dogs',\n",
      "       '8_dislikes dogs and dislikes cats', '8_dislikes dogs and has cats',\n",
      "       '8_dislikes dogs and likes cats', '8_has cats', '8_has dogs',\n",
      "       '8_has dogs and dislikes cats', '8_has dogs and has cats',\n",
      "       '8_has dogs and likes cats', '8_likes cats', '8_likes dogs',\n",
      "       '8_likes dogs and dislikes cats', '8_likes dogs and has cats',\n",
      "       '8_likes dogs and likes cats', '9_no', '9_sometimes',\n",
      "       '9_trying to quit', '9_when drinking', '9_yes', '10_available',\n",
      "       '10_married', '10_seeing someone', '10_single', '10_unknown'],\n",
      "      dtype='object')\n"
     ]
    },
    {
     "data": {
      "text/plain": [
       "<Figure size 640x480 with 1 Axes>"
      ]
     },
     "metadata": {},
     "output_type": "display_data"
    },
    {
     "name": "stdout",
     "output_type": "stream",
     "text": [
      "5_construction / craftsmanship      1.710597\n",
      "5_computer / hardware / software    1.358549\n",
      "0_athletic                          1.145029\n",
      "5_military                          0.995211\n",
      "5_transportation                    0.967012\n",
      "0_a little extra                    0.912433\n",
      "7_gay                               0.911870\n",
      "0_jacked                            0.896615\n",
      "0_used up                           0.882195\n",
      "0_overweight                        0.755995\n",
      "5_science / tech / engineering      0.706868\n",
      "4_dropped out of high school        0.694174\n",
      "8_likes cats                        0.501780\n",
      "8_likes dogs and likes cats         0.476008\n",
      "4_high school                       0.468117\n",
      "4_dropped out of med school         0.465730\n",
      "1_halal                             0.464837\n",
      "10_available                        0.460074\n",
      "4_dropped out of space camp         0.457518\n",
      "3_often                             0.438431\n",
      "8_dislikes dogs and likes cats      0.436564\n",
      "0_average                           0.428799\n",
      "6_has kids, and wants more          0.385209\n",
      "8_likes dogs                        0.309383\n",
      "9_trying to quit                    0.296879\n",
      "7_straight                          0.294031\n",
      "5_entertainment / media             0.257651\n",
      "5_executive / management            0.254768\n",
      "6_does not have kids                0.250379\n",
      "1_kosher                            0.233326\n",
      "                                      ...   \n",
      "5_rather not say                   -0.167638\n",
      "6_has kids                         -0.211841\n",
      "5_artistic / musical / writer      -0.223317\n",
      "5_unemployed                       -0.223414\n",
      "5_political / government           -0.223483\n",
      "3_never                            -0.252325\n",
      "9_no                               -0.286096\n",
      "5_hospitality / travel             -0.293006\n",
      "1_vegan                            -0.295470\n",
      "4_dropped out of law school        -0.299827\n",
      "5_student                          -0.300816\n",
      "4_college/university               -0.321099\n",
      "8_has dogs and dislikes cats       -0.353261\n",
      "5_law / legal services             -0.385792\n",
      "10_seeing someone                  -0.402820\n",
      "8_has dogs and has cats            -0.407507\n",
      "8_has cats                         -0.411346\n",
      "4_law school                       -0.436094\n",
      "6_has kids, does not want more     -0.443334\n",
      "5_sales / marketing / biz dev      -0.470442\n",
      "1_vegetarian                       -0.481449\n",
      "8_likes dogs and has cats          -0.487204\n",
      "5_other                            -0.513866\n",
      "4_masters program                  -0.783500\n",
      "5_education / academia             -0.877044\n",
      "5_medicine / health                -0.995599\n",
      "7_bisexual                         -1.049814\n",
      "5_clerical / administrative        -1.354834\n",
      "0_full figured                     -1.722515\n",
      "0_curvy                            -3.291501\n",
      "Length: 92, dtype: float64\n"
     ]
    }
   ],
   "source": [
    "#plotted results\n",
    "from matplotlib.pyplot import *\n",
    "import matplotlib.pyplot as plt\n",
    "\n",
    "coefs = pd.Series(log_reg.coef_[0], index=df1_train.columns)\n",
    "print (df1_train.columns)\n",
    "coefs = coefs.sort_values()\n",
    "plt.subplot(1,1,1)\n",
    "coefs.plot(kind=\"bar\")\n",
    "plt.show()\n",
    "print (coefs.sort_values(ascending = False))"
   ]
  },
  {
   "cell_type": "code",
   "execution_count": null,
   "metadata": {},
   "outputs": [],
   "source": [
    "# Calculating 5 fold cross validation results\n",
    "model = LogisticRegression()\n",
    "kf = KFold(n_splits=5)\n",
    "scores = cross_val_score(model, data, CV, cv=kf)\n",
    "print(\"Accuracy of every fold in 5 fold cross validation: \", abs(scores))\n",
    "print(\"Mean of the 5 fold cross-validation: %0.2f\" % abs(scores.mean()))"
   ]
  },
  {
   "cell_type": "code",
   "execution_count": null,
   "metadata": {},
   "outputs": [],
   "source": []
  }
 ],
 "metadata": {
  "kernelspec": {
   "display_name": "Python 3",
   "language": "python",
   "name": "python3"
  },
  "language_info": {
   "codemirror_mode": {
    "name": "ipython",
    "version": 3
   },
   "file_extension": ".py",
   "mimetype": "text/x-python",
   "name": "python",
   "nbconvert_exporter": "python",
   "pygments_lexer": "ipython3",
   "version": "3.6.5"
  }
 },
 "nbformat": 4,
 "nbformat_minor": 2
}
